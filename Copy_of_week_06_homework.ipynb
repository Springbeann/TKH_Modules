{
  "nbformat": 4,
  "nbformat_minor": 0,
  "metadata": {
    "kernelspec": {
      "display_name": "Python 3 (ipykernel)",
      "language": "python",
      "name": "python3"
    },
    "language_info": {
      "codemirror_mode": {
        "name": "ipython",
        "version": 3
      },
      "file_extension": ".py",
      "mimetype": "text/x-python",
      "name": "python",
      "nbconvert_exporter": "python",
      "pygments_lexer": "ipython3",
      "version": "3.8.2"
    },
    "colab": {
      "name": "Copy of week-06-homework.ipynb",
      "provenance": [],
      "collapsed_sections": [],
      "include_colab_link": true
    }
  },
  "cells": [
    {
      "cell_type": "markdown",
      "metadata": {
        "id": "view-in-github",
        "colab_type": "text"
      },
      "source": [
        "<a href=\"https://colab.research.google.com/github/Springbeann/TKH_Modules/blob/main/Copy_of_week_06_homework.ipynb\" target=\"_parent\"><img src=\"https://colab.research.google.com/assets/colab-badge.svg\" alt=\"Open In Colab\"/></a>"
      ]
    },
    {
      "cell_type": "markdown",
      "metadata": {
        "id": "32LjEyptTNMD"
      },
      "source": [
        "<div style=\"background: #000;\n",
        "            color: #FFF;\n",
        "            margin: 0px;\n",
        "                padding: 10px 0px 20px 0px;\n",
        "            text-align: center; \n",
        "                \">\n",
        "    <h1>Week 6 - Homework</h1>\n",
        "</div>\n",
        "\n",
        "<pre style=\"text-align:center;\">\n",
        "Exercise 1 is due Monday 10/25\n",
        "Exercise 2 is due Tuesday 10/26\n",
        "Exercise 3 is due Wednesday 10/27\n",
        "</pre>"
      ]
    },
    {
      "cell_type": "markdown",
      "metadata": {
        "id": "oWw_vBClTNMf"
      },
      "source": [
        "# Exercise 1\n",
        "\n",
        "Create a class called `Course` and a class called `Student` based on what you think they will need. Create a way to store 20 \"students\" (instances of the `Student` class into an instance of `Course` to represent our Data Science course. \n",
        "\n",
        "Demonstrate that your code works. Message on slack if stuck or need clarification."
      ]
    },
    {
      "cell_type": "code",
      "metadata": {
        "id": "KGLvnROiTNMl"
      },
      "source": [
        "class Student:\n",
        "  def __init__(self, name, grade): \n",
        "    self.name = name\n",
        "    self.grade = grade\n",
        "\n",
        "  def set_grade(self, grade):       \n",
        "    self.grade = grade\n",
        "  \n",
        "  @property                       \n",
        "  def del_grade(self):\n",
        "    self.grade = None  \n",
        "\n",
        "class Course(Student):\n",
        "    def __init__(self, class_name):\n",
        "      self.class_name = class_name\n",
        "      self.students = {}\n",
        "\n",
        "    def add_student(self, name, grade):\n",
        "        self.students[name] = grade\n",
        "        return self.students"
      ],
      "execution_count": 13,
      "outputs": []
    },
    {
      "cell_type": "code",
      "metadata": {
        "id": "M4usaJQTjgt2",
        "colab": {
          "base_uri": "https://localhost:8080/"
        },
        "outputId": "11a377e3-6d1a-4b3b-a45c-9521c75c52da"
      },
      "source": [
        "ds = Course(\"Data science\")\n",
        "ds.add_student(\"Lilly\",\"A+\")\n",
        "ds.add_student(\"Molly\",\"B-\")\n",
        "ds.add_student(\"Kelly\", \"A+\")\n",
        "ds.add_student(\"Michael\",\"C-\")\n",
        "ds.add_student(\"Tyler\",\"B+\")\n",
        "ds.add_student(\"Dave\",\"A-\")\n",
        "ds.add_student(\"Ella\",\"D-\")\n",
        "ds.add_student(\"Carla\",\"B+\")\n",
        "ds.add_student(\"Evan\",\"C+\")\n",
        "ds.add_student(\"Kam\",\"A+\")\n",
        "ds.add_student(\"Tiffany\",\"A+\")\n",
        "ds.add_student(\"Nikki\",\"A+\")\n",
        "ds.add_student(\"Jorge\",\"A-\")\n",
        "ds.add_student(\"Michelle\",\"C+\")\n",
        "ds.add_student(\"Nava\",\"D-\")\n",
        "ds.add_student(\"Yana\",\"B+\")\n",
        "ds.add_student(\"Melanie\",\"C-\")\n",
        "ds.add_student(\"Anthony\",\"B+\")\n",
        "ds.add_student(\"Paolo\",\"F\")\n",
        "ds.add_student(\"Miele\",\"C\")"
      ],
      "execution_count": 9,
      "outputs": [
        {
          "output_type": "execute_result",
          "data": {
            "text/plain": [
              "{'Anthony': 'B+',\n",
              " 'Carla': 'B+',\n",
              " 'Dave': 'A-',\n",
              " 'Ella': 'D-',\n",
              " 'Evan': 'C+',\n",
              " 'Jorge': 'A-',\n",
              " 'Kam': 'A+',\n",
              " 'Kelly': 'A+',\n",
              " 'Lilly': 'A+',\n",
              " 'Melanie': 'C-',\n",
              " 'Michael': 'C-',\n",
              " 'Michelle': 'C+',\n",
              " 'Miele': 'C',\n",
              " 'Molly': 'B-',\n",
              " 'Nava': 'D-',\n",
              " 'Nikki': 'A+',\n",
              " 'Paolo': 'F',\n",
              " 'Tiffany': 'A+',\n",
              " 'Tyler': 'B+',\n",
              " 'Yana': 'B+'}"
            ]
          },
          "metadata": {},
          "execution_count": 9
        }
      ]
    },
    {
      "cell_type": "code",
      "metadata": {
        "id": "5Vr1DUG1lqF8",
        "colab": {
          "base_uri": "https://localhost:8080/"
        },
        "outputId": "cc6a8979-5158-4b86-a8d5-4a744f4b7515"
      },
      "source": [
        "print(len(ds.students))"
      ],
      "execution_count": 14,
      "outputs": [
        {
          "output_type": "stream",
          "name": "stdout",
          "text": [
            "20\n"
          ]
        }
      ]
    },
    {
      "cell_type": "markdown",
      "metadata": {
        "id": "DL6OwDX2TNMv"
      },
      "source": [
        "# Exercise 2\n",
        "\n",
        "Create a class called `SafeFloat` that stores an attribute called `num` as an instance attribute set during initialization and sets `num_as_float` based on `num`\n",
        "\n",
        "Include the following three methods:\n",
        "\n",
        "`to_float` - that converts `num` to a float and stores that an attribute `num_as_float`. If `num` cannot be converted, set `num_as_float` to `None`. Do on mutate the original `num`, we'd like to keep it.\n",
        "\n",
        "`check_type` - that returns `True` if `num_as_float` is a float. It should create `num_as_float` if it doesn't exist. \n",
        "\n",
        "and a method that overrides the addition operator so that when instances of `SafeFloat` are added, `num_as_float` is used to add. Return the sum of the two instances or return `None` if the two cannot be added.\n",
        "\n",
        "Demonstrate that this works for strings, ints, bools and floats."
      ]
    },
    {
      "cell_type": "code",
      "metadata": {
        "id": "QVGVBQ_zTNMy"
      },
      "source": [
        "class SafeFloat:\n",
        "   def __init__(self, num):\n",
        "     self.num = int(num)\n",
        "\n",
        "    \n",
        "     def to_float(self):\n",
        "      self.num_as_float = float(self.num)\n",
        "      if self.num_as_float != float:\n",
        "        self.num_as_float = None \n",
        "        return float(self.num)\n",
        "        \n",
        "     def check_type(self):\n",
        "      if type(self.num_as_float) == float:\n",
        "        return True \n",
        "      else:\n",
        "        return None\n",
        "\n",
        "\n",
        "  \n"
      ],
      "execution_count": 22,
      "outputs": []
    },
    {
      "cell_type": "code",
      "metadata": {
        "id": "Lax1DikqzaGf"
      },
      "source": [
        "e = SafeFloat(0)\n",
        "f = SafeFloat(0)"
      ],
      "execution_count": null,
      "outputs": []
    },
    {
      "cell_type": "markdown",
      "metadata": {
        "id": "cglNcJs1TNM6"
      },
      "source": [
        "# Exercise 3\n",
        "\n",
        "Create a base class `Shape` and two classes that inherits that base class called `Triangle` and `Rectangle`. Consider what those two share in common (height and width) and use that to create your base class `Shape`. Create a method for base class called `area` that returns `None` for the base class. Override that method for `Triangle` and `Rectangle` so instances of those two classes can calculate the correct area.\n",
        "\n",
        "Demonstrate that your code works."
      ]
    },
    {
      "cell_type": "code",
      "metadata": {
        "id": "Ss3Snop-TNM9"
      },
      "source": [
        ""
      ],
      "execution_count": null,
      "outputs": []
    }
  ]
}